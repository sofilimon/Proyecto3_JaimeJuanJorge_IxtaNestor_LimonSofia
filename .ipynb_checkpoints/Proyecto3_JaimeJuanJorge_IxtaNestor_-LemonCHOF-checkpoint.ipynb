{
 "cells": [
  {
   "cell_type": "markdown",
   "metadata": {},
   "source": [
<<<<<<< Updated upstream
    "## Proyecto 3\n",
    "### Análisis de Concreteras"
   ]
  },
  {
   "cell_type": "markdown",
   "metadata": {},
   "source": [
    "Integrantes:\n",
    "\n",
    "Sofía Limón Ochoa \n",
    "\n",
    "Juan Jorge Jaime Gutiérrez\n",
    "\n",
    "Néstor Iván Ixta Ayala "
   ]
  },
  {
   "cell_type": "markdown",
   "metadata": {},
   "source": [
    "## PROBLEMA\n",
    "\n",
    "Trabajamos para dos empresas concreteras en el área de costos y las dos nos piden saber los meses para invertir en ellas. Las empresas en las cual este proyecto se lleva acabo son LemonConcrete y CEMEX. Las dos tienen la misma meta de ahorro que es de $\\$200000$ MXN, mientras que, la tasa de interes de HOLCIM es de $4\\%$ y el de CEMEX es de $5\\%$. CEMEX tiene un capital de $\\$150000$ MXN mientras que LemonConcrete tiene $\\$180000$ MXN. \n",
=======
    "## PROBLEMA\n",
    "\n",
    "Trabajamos para dos empresas concreteras en el área de costos y las dos nos piden saber los meses para invertir en ellas. Las empresas en las cual este proyecto se lleva acabo son LemonConcrete y CEMEX. Las dos tienen la misma meta de ahorro que es de $\\$200000$ MXN, mientras que, la tasa de interes de LemonConcrete es de $4\\%$ y el de CEMEX es de $5\\%$. CEMEX tiene un capital de $\\$150000$ MXN mientras que LemonConcrete tiene $\\$180000$ MXN. \n",
>>>>>>> Stashed changes
    "\n",
    "Para las dos nuestro capital inicial estará representado como $X_0$ y los periodos como $k$ (meses) y la tasa de **interés simple** por periodo $i$. Al final del primer periodo, el capital $X_1$ que se obtiene es:\n",
    "\n",
    "$$X_1=X_0(1+i).$$\n",
    "\n",
    "\n",
    "\n",
    "$$X_2=X_1+iX_0=X_0+iX_0+iX_0=X_0(1+2i).$$\n",
    "\n",
    "\n",
    "\n",
    "$$X_k=X_{k-1}+iX_0=X_0+kiX_0=X_0(1+ki).$$"
   ]
  },
  {
   "cell_type": "code",
<<<<<<< Updated upstream
   "execution_count": 3,
=======
   "execution_count": 1,
>>>>>>> Stashed changes
   "metadata": {},
   "outputs": [],
   "source": [
    "import numpy as np\n",
    "from ipywidgets import *\n",
    "import matplotlib.pyplot as plt"
   ]
  },
  {
   "cell_type": "code",
<<<<<<< Updated upstream
   "execution_count": 4,
=======
   "execution_count": 2,
>>>>>>> Stashed changes
   "metadata": {},
   "outputs": [],
   "source": [
    "def interes_simple(meta,i,C0):\n",
    "    k=np.ceil((meta/C0-1)/i).astype(int)\n",
    "    periodos=np.linspace(0,k,k+1)\n",
    "    Ck=C0*(1+periodos*i)\n",
    "    plt.figure(figsize=(5,5))\n",
    "    plt.plot(periodos,Ck,\"o\",ms=5)\n",
    "    plt.plot([0,k],[meta,meta],\"--k\")\n",
    "    plt.grid()"
   ]
  },
  {
   "cell_type": "code",
<<<<<<< Updated upstream
   "execution_count": 5,
=======
   "execution_count": 3,
>>>>>>> Stashed changes
   "metadata": {},
   "outputs": [
    {
     "name": "stdout",
     "output_type": "stream",
     "text": [
      "En CEMEX, el número de periodos necesarios para alcanzar 200000 es 7.0. El capital obtenido es de 202500.0.\n"
     ]
    }
   ],
   "source": [
    "Ck,C0,i=200000,150000,0.05\n",
    "k=np.ceil((Ck/C0-1)/i) # ceil-> redondea el entero proximo hacia arriba\n",
    "print(\"En CEMEX, el número de periodos necesarios para alcanzar \",Ck,\" es \",k,\". El capital obtenido es de \", round(C0*(1+k*i),2),\".\",sep=\"\")"
   ]
  },
  {
   "cell_type": "code",
<<<<<<< Updated upstream
   "execution_count": 6,
=======
   "execution_count": 4,
>>>>>>> Stashed changes
   "metadata": {},
   "outputs": [
    {
     "data": {
      "application/vnd.jupyter.widget-view+json": {
<<<<<<< Updated upstream
       "model_id": "91cfa776ffb84b579753fee16e941f40",
=======
       "model_id": "6cc878edcc12403c9bef1899cee03121",
>>>>>>> Stashed changes
       "version_major": 2,
       "version_minor": 0
      },
      "text/plain": [
       "interactive(children=(IntSlider(value=210000, description='meta', max=220000, min=200000, step=100), Button(de…"
      ]
     },
     "metadata": {},
     "output_type": "display_data"
    },
    {
     "data": {
      "text/plain": [
       "<function __main__.interes_simple(meta, i, C0)>"
      ]
     },
<<<<<<< Updated upstream
     "execution_count": 6,
=======
     "execution_count": 4,
>>>>>>> Stashed changes
     "metadata": {},
     "output_type": "execute_result"
    }
   ],
   "source": [
    "interact_manual(interes_simple,meta=(200000,220000,100),i=fixed(0.05),C0=fixed(150000))"
   ]
  },
  {
   "cell_type": "code",
<<<<<<< Updated upstream
   "execution_count": 7,
=======
   "execution_count": 5,
>>>>>>> Stashed changes
   "metadata": {},
   "outputs": [
    {
     "name": "stdout",
     "output_type": "stream",
     "text": [
<<<<<<< Updated upstream
      "En HOLCIM, el número de periodos necesarios para alcanzar 200000 es 3.0. El capital obtenido es de 201600.0.\n"
=======
      "En LemonConcrete, el número de periodos necesarios para alcanzar 200000 es 3.0. El capital obtenido es de 201600.0.\n"
>>>>>>> Stashed changes
     ]
    }
   ],
   "source": [
    "Ck,C0,i=200000,180000,0.04\n",
    "k=np.ceil((Ck/C0-1)/i) # ceil-> redondea el entero proximo hacia arriba\n",
<<<<<<< Updated upstream
    "print(\"En HOLCIM, el número de periodos necesarios para alcanzar \",Ck,\" es \",k,\". El capital obtenido es de \", round(C0*(1+k*i),2),\".\",sep=\"\")"
=======
    "print(\"En LemonConcrete, el número de periodos necesarios para alcanzar \",Ck,\" es \",k,\". El capital obtenido es de \", round(C0*(1+k*i),2),\".\",sep=\"\")"
>>>>>>> Stashed changes
   ]
  },
  {
   "cell_type": "code",
<<<<<<< Updated upstream
   "execution_count": 8,
=======
   "execution_count": 6,
>>>>>>> Stashed changes
   "metadata": {},
   "outputs": [
    {
     "data": {
      "application/vnd.jupyter.widget-view+json": {
<<<<<<< Updated upstream
       "model_id": "d3a6728e82ef448a937acbd08428569f",
=======
       "model_id": "96d80203a9a44107af5f1008ce958df5",
>>>>>>> Stashed changes
       "version_major": 2,
       "version_minor": 0
      },
      "text/plain": [
       "interactive(children=(IntSlider(value=210000, description='meta', max=220000, min=200000, step=100), Button(de…"
      ]
     },
     "metadata": {},
     "output_type": "display_data"
    },
    {
     "data": {
      "text/plain": [
       "<function __main__.interes_simple(meta, i, C0)>"
      ]
     },
<<<<<<< Updated upstream
     "execution_count": 8,
=======
     "execution_count": 6,
>>>>>>> Stashed changes
     "metadata": {},
     "output_type": "execute_result"
    }
   ],
   "source": [
    "interact_manual(interes_simple,meta=(200000,220000,100),i=fixed(.04),C0=fixed(180000))"
   ]
  },
  {
   "cell_type": "code",
   "execution_count": null,
   "metadata": {},
   "outputs": [],
   "source": []
  },
  {
   "cell_type": "code",
   "execution_count": null,
   "metadata": {},
   "outputs": [],
   "source": []
  }
 ],
 "metadata": {
  "kernelspec": {
   "display_name": "Python 3",
   "language": "python",
   "name": "python3"
  },
  "language_info": {
   "codemirror_mode": {
    "name": "ipython",
    "version": 3
   },
   "file_extension": ".py",
   "mimetype": "text/x-python",
   "name": "python",
   "nbconvert_exporter": "python",
   "pygments_lexer": "ipython3",
   "version": "3.7.6"
  }
 },
 "nbformat": 4,
 "nbformat_minor": 4
}
